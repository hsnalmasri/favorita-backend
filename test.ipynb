{
 "cells": [
  {
   "cell_type": "code",
   "execution_count": 1,
   "id": "5a8c74d0",
   "metadata": {},
   "outputs": [
    {
     "name": "stdout",
     "output_type": "stream",
     "text": [
      "ENV HF_DATASET_URL = None\n",
      "config.DATASET_PATH = 'https://huggingface.co/datasets/hsnalmasri/favorita-demo/resolve/main/favorita_monthly_features.csv'\n",
      "io.DATASET_PATH = 'https://huggingface.co/datasets/hsnalmasri/favorita-demo/resolve/main/favorita_monthly_features.csv'\n"
     ]
    },
    {
     "data": {
      "text/html": [
       "<div>\n",
       "<style scoped>\n",
       "    .dataframe tbody tr th:only-of-type {\n",
       "        vertical-align: middle;\n",
       "    }\n",
       "\n",
       "    .dataframe tbody tr th {\n",
       "        vertical-align: top;\n",
       "    }\n",
       "\n",
       "    .dataframe thead th {\n",
       "        text-align: right;\n",
       "    }\n",
       "</style>\n",
       "<table border=\"1\" class=\"dataframe\">\n",
       "  <thead>\n",
       "    <tr style=\"text-align: right;\">\n",
       "      <th></th>\n",
       "      <th>month</th>\n",
       "      <th>store_nbr</th>\n",
       "      <th>item_nbr</th>\n",
       "      <th>unit_sales</th>\n",
       "      <th>onpromotion</th>\n",
       "      <th>city_n</th>\n",
       "      <th>type</th>\n",
       "      <th>cluster</th>\n",
       "      <th>good_holiday</th>\n",
       "      <th>bad_holiday</th>\n",
       "      <th>family</th>\n",
       "      <th>class</th>\n",
       "      <th>perishable</th>\n",
       "      <th>dcoil_mean</th>\n",
       "      <th>dcoil_std</th>\n",
       "      <th>dcoil_last</th>\n",
       "    </tr>\n",
       "  </thead>\n",
       "  <tbody>\n",
       "    <tr>\n",
       "      <th>0</th>\n",
       "      <td>2013-01</td>\n",
       "      <td>1</td>\n",
       "      <td>96995</td>\n",
       "      <td>9.0</td>\n",
       "      <td>0</td>\n",
       "      <td>quito</td>\n",
       "      <td>D</td>\n",
       "      <td>13</td>\n",
       "      <td>0</td>\n",
       "      <td>0</td>\n",
       "      <td>GROCERY I</td>\n",
       "      <td>1093</td>\n",
       "      <td>0</td>\n",
       "      <td>94.795456</td>\n",
       "      <td>1.60016</td>\n",
       "      <td>97.65</td>\n",
       "    </tr>\n",
       "  </tbody>\n",
       "</table>\n",
       "</div>"
      ],
      "text/plain": [
       "     month  store_nbr  item_nbr  unit_sales  onpromotion city_n type  cluster  \\\n",
       "0  2013-01          1     96995         9.0            0  quito    D       13   \n",
       "\n",
       "   good_holiday  bad_holiday     family  class  perishable  dcoil_mean  \\\n",
       "0             0            0  GROCERY I   1093           0   94.795456   \n",
       "\n",
       "   dcoil_std  dcoil_last  \n",
       "0    1.60016       97.65  "
      ]
     },
     "execution_count": 1,
     "metadata": {},
     "output_type": "execute_result"
    }
   ],
   "source": [
    "import importlib, os\n",
    "from app import config\n",
    "from utils import io\n",
    "\n",
    "print(\"ENV HF_DATASET_URL =\", repr(os.environ.get(\"HF_DATASET_URL\")))\n",
    "print(\"config.DATASET_PATH =\", repr(config.DATASET_PATH))\n",
    "importlib.reload(io)\n",
    "print(\"io.DATASET_PATH =\", repr(io.DATASET_PATH))\n",
    "\n",
    "import pandas as pd\n",
    "pd.read_csv(config.DATASET_PATH).head(1)  # should work\n"
   ]
  }
 ],
 "metadata": {
  "kernelspec": {
   "display_name": ".venv",
   "language": "python",
   "name": "python3"
  },
  "language_info": {
   "codemirror_mode": {
    "name": "ipython",
    "version": 3
   },
   "file_extension": ".py",
   "mimetype": "text/x-python",
   "name": "python",
   "nbconvert_exporter": "python",
   "pygments_lexer": "ipython3",
   "version": "3.13.1"
  }
 },
 "nbformat": 4,
 "nbformat_minor": 5
}
